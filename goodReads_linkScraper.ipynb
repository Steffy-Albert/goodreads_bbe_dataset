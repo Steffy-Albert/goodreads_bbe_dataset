{
 "cells": [
  {
   "cell_type": "code",
   "execution_count": null,
   "metadata": {},
   "outputs": [],
   "source": [
    "# Load necessary libraries\n",
    "import time\n",
    "import dateutil.parser\n",
    "import pandas as pd\n",
    "from ast import literal_eval\n",
    "from selenium import webdriver\n",
    "from selenium.webdriver.chrome.options import Options\n",
    "from selenium.webdriver.common.by import By\n",
    "from selenium.common.exceptions import NoSuchElementException\n",
    "from selenium.common.exceptions import TimeoutException\n",
    "from selenium.webdriver.support.ui import WebDriverWait\n",
    "from selenium.webdriver.support import expected_conditions as EC"
   ]
  },
  {
   "cell_type": "code",
   "execution_count": 49,
   "metadata": {},
   "outputs": [],
   "source": [
    "# Set chrome options\n",
    "chrome_options = Options()\n",
    "chrome_options.add_argument(\"--headless\")\n",
    "chrome_options.add_argument(\"--window-size=1920x1080\")\n",
    "\n",
    "# Define webdriver\n",
    "driver = webdriver.Chrome(options=chrome_options)"
   ]
  },
  {
   "cell_type": "code",
   "execution_count": 50,
   "metadata": {},
   "outputs": [
    {
     "name": "stdout",
     "output_type": "stream",
     "text": [
      "Retraiving links on page 10\n",
      "Retraiving links on page 20\n",
      "Retraiving links on page 30\n",
      "Retraiving links on page 40\n",
      "Retraiving links on page 50\n",
      "Retraiving links on page 60\n",
      "Retraiving links on page 70\n",
      "Retraiving links on page 80\n",
      "Retraiving links on page 90\n",
      "Retraiving links on page 100\n",
      "Retraiving links on page 110\n",
      "Retraiving links on page 120\n",
      "Retraiving links on page 130\n",
      "Retraiving links on page 140\n",
      "Retraiving links on page 150\n",
      "Retraiving links on page 160\n",
      "Retraiving links on page 170\n",
      "Retraiving links on page 180\n",
      "Retraiving links on page 190\n",
      "Retraiving links on page 200\n",
      "Retraiving links on page 210\n",
      "Retraiving links on page 220\n",
      "Retraiving links on page 230\n",
      "Retraiving links on page 240\n",
      "Retraiving links on page 250\n",
      "Retraiving links on page 260\n",
      "Retraiving links on page 270\n",
      "Retraiving links on page 280\n",
      "Retraiving links on page 290\n",
      "Retraiving links on page 300\n",
      "Retraiving links on page 310\n",
      "Retraiving links on page 320\n",
      "Retraiving links on page 330\n",
      "Retraiving links on page 340\n",
      "Retraiving links on page 350\n",
      "Retraiving links on page 360\n",
      "Retraiving links on page 370\n",
      "Retraiving links on page 380\n",
      "Retraiving links on page 390\n",
      "Retraiving links on page 400\n",
      "Retraiving links on page 410\n",
      "Retraiving links on page 420\n",
      "Retraiving links on page 430\n",
      "Retraiving links on page 440\n",
      "Retraiving links on page 450\n",
      "Retraiving links on page 460\n",
      "Retraiving links on page 470\n",
      "Retraiving links on page 480\n",
      "Retraiving links on page 490\n",
      "Retraiving links on page 500\n",
      "Retraiving links on page 510\n",
      "Retraiving links on page 520\n",
      "--- 5008.871397018433 seconds ---\n"
     ]
    }
   ],
   "source": [
    "# Time control\n",
    "startTime = time.time()\n",
    "\n",
    "# Set target site base url for scraping NO CAL TORNAR A EXECUTAR\n",
    "base_url = \"https://www.goodreads.com/list/show/1.Best_Books_Ever?page=\"\n",
    "\n",
    "# Initialize book URL list\n",
    "book_links = []\n",
    "\n",
    "# Get book URL list for all books ok BBE list\n",
    "for page in range(1, 530):\n",
    "    \n",
    "    if page%25 == 0:\n",
    "        print(\"Retrieving links on page \" + str(page))\n",
    "        \n",
    "    # Open target site\n",
    "    driver.get(base_url+str(page))\n",
    "    \n",
    "    # Wait for login popup and close (will open on second page)\n",
    "    if page == 2:\n",
    "        try:\n",
    "            WebDriverWait(driver, 20).until(EC.visibility_of_element_located((By.XPATH, '(//img[@alt=\"Dismiss\"])[2]'))).click()\n",
    "        except TimeoutException:\n",
    "            pass\n",
    "\n",
    "    # Retrieve desired elements (ordered list of books) - see comments on top\n",
    "    bookTitles = driver.find_elements_by_class_name('bookTitle')\n",
    "    scoreVotes = driver.find_elements_by_xpath('//span[@class=\"smallText uitext\"]')\n",
    "    \n",
    "    # Extract book URL, score and votes for each element\n",
    "    for i  in range(len(bookTitles)):\n",
    "        bookInfo = {\n",
    "            \"bookUrl\": bookTitles[i].get_attribute('href'),\n",
    "            \"score\": scoreVotes[i].find_elements_by_tag_name('a')[0].get_attribute('text').split(': ')[1].replace(\",\",\"\"),\n",
    "            \"votes\": scoreVotes[i].find_elements_by_tag_name('a')[1].get_attribute('text').split(' p')[0].replace(\",\",\"\")\n",
    "        }\n",
    "\n",
    "        book_links.append(bookInfo)\n",
    "\n",
    "# Time control    \n",
    "endTime = time.time()\n",
    "print(\"--- %s seconds ---\" % (endTime - startTime))        \n",
    " \n",
    "# Save book_list to file for further development\n",
    "with open('list_data_all_BBE.txt', 'w') as f:\n",
    "    for book in book_links:\n",
    "        f.write(\"%s\\n\" % book)        "
   ]
  },
  {
   "cell_type": "code",
   "execution_count": 48,
   "metadata": {
    "collapsed": true
   },
   "outputs": [
    {
     "ename": "InvalidSessionIdException",
     "evalue": "Message: invalid session id\n",
     "output_type": "error",
     "traceback": [
      "\u001b[0;31m---------------------------------------------------------------------------\u001b[0m",
      "\u001b[0;31mInvalidSessionIdException\u001b[0m                 Traceback (most recent call last)",
      "\u001b[0;32m<ipython-input-48-ad0c9a213c39>\u001b[0m in \u001b[0;36m<module>\u001b[0;34m\u001b[0m\n\u001b[0;32m----> 1\u001b[0;31m \u001b[0mdriver\u001b[0m\u001b[0;34m.\u001b[0m\u001b[0mclose\u001b[0m\u001b[0;34m(\u001b[0m\u001b[0;34m)\u001b[0m\u001b[0;34m\u001b[0m\u001b[0;34m\u001b[0m\u001b[0m\n\u001b[0m",
      "\u001b[0;32m~/miniconda3/envs/PRAC1-TiCVD/lib/python3.8/site-packages/selenium/webdriver/remote/webdriver.py\u001b[0m in \u001b[0;36mclose\u001b[0;34m(self)\u001b[0m\n\u001b[1;32m    686\u001b[0m             \u001b[0mdriver\u001b[0m\u001b[0;34m.\u001b[0m\u001b[0mclose\u001b[0m\u001b[0;34m(\u001b[0m\u001b[0;34m)\u001b[0m\u001b[0;34m\u001b[0m\u001b[0;34m\u001b[0m\u001b[0m\n\u001b[1;32m    687\u001b[0m         \"\"\"\n\u001b[0;32m--> 688\u001b[0;31m         \u001b[0mself\u001b[0m\u001b[0;34m.\u001b[0m\u001b[0mexecute\u001b[0m\u001b[0;34m(\u001b[0m\u001b[0mCommand\u001b[0m\u001b[0;34m.\u001b[0m\u001b[0mCLOSE\u001b[0m\u001b[0;34m)\u001b[0m\u001b[0;34m\u001b[0m\u001b[0;34m\u001b[0m\u001b[0m\n\u001b[0m\u001b[1;32m    689\u001b[0m \u001b[0;34m\u001b[0m\u001b[0m\n\u001b[1;32m    690\u001b[0m     \u001b[0;32mdef\u001b[0m \u001b[0mquit\u001b[0m\u001b[0;34m(\u001b[0m\u001b[0mself\u001b[0m\u001b[0;34m)\u001b[0m\u001b[0;34m:\u001b[0m\u001b[0;34m\u001b[0m\u001b[0;34m\u001b[0m\u001b[0m\n",
      "\u001b[0;32m~/miniconda3/envs/PRAC1-TiCVD/lib/python3.8/site-packages/selenium/webdriver/remote/webdriver.py\u001b[0m in \u001b[0;36mexecute\u001b[0;34m(self, driver_command, params)\u001b[0m\n\u001b[1;32m    319\u001b[0m         \u001b[0mresponse\u001b[0m \u001b[0;34m=\u001b[0m \u001b[0mself\u001b[0m\u001b[0;34m.\u001b[0m\u001b[0mcommand_executor\u001b[0m\u001b[0;34m.\u001b[0m\u001b[0mexecute\u001b[0m\u001b[0;34m(\u001b[0m\u001b[0mdriver_command\u001b[0m\u001b[0;34m,\u001b[0m \u001b[0mparams\u001b[0m\u001b[0;34m)\u001b[0m\u001b[0;34m\u001b[0m\u001b[0;34m\u001b[0m\u001b[0m\n\u001b[1;32m    320\u001b[0m         \u001b[0;32mif\u001b[0m \u001b[0mresponse\u001b[0m\u001b[0;34m:\u001b[0m\u001b[0;34m\u001b[0m\u001b[0;34m\u001b[0m\u001b[0m\n\u001b[0;32m--> 321\u001b[0;31m             \u001b[0mself\u001b[0m\u001b[0;34m.\u001b[0m\u001b[0merror_handler\u001b[0m\u001b[0;34m.\u001b[0m\u001b[0mcheck_response\u001b[0m\u001b[0;34m(\u001b[0m\u001b[0mresponse\u001b[0m\u001b[0;34m)\u001b[0m\u001b[0;34m\u001b[0m\u001b[0;34m\u001b[0m\u001b[0m\n\u001b[0m\u001b[1;32m    322\u001b[0m             response['value'] = self._unwrap_value(\n\u001b[1;32m    323\u001b[0m                 response.get('value', None))\n",
      "\u001b[0;32m~/miniconda3/envs/PRAC1-TiCVD/lib/python3.8/site-packages/selenium/webdriver/remote/errorhandler.py\u001b[0m in \u001b[0;36mcheck_response\u001b[0;34m(self, response)\u001b[0m\n\u001b[1;32m    240\u001b[0m                 \u001b[0malert_text\u001b[0m \u001b[0;34m=\u001b[0m \u001b[0mvalue\u001b[0m\u001b[0;34m[\u001b[0m\u001b[0;34m'alert'\u001b[0m\u001b[0;34m]\u001b[0m\u001b[0;34m.\u001b[0m\u001b[0mget\u001b[0m\u001b[0;34m(\u001b[0m\u001b[0;34m'text'\u001b[0m\u001b[0;34m)\u001b[0m\u001b[0;34m\u001b[0m\u001b[0;34m\u001b[0m\u001b[0m\n\u001b[1;32m    241\u001b[0m             \u001b[0;32mraise\u001b[0m \u001b[0mexception_class\u001b[0m\u001b[0;34m(\u001b[0m\u001b[0mmessage\u001b[0m\u001b[0;34m,\u001b[0m \u001b[0mscreen\u001b[0m\u001b[0;34m,\u001b[0m \u001b[0mstacktrace\u001b[0m\u001b[0;34m,\u001b[0m \u001b[0malert_text\u001b[0m\u001b[0;34m)\u001b[0m\u001b[0;34m\u001b[0m\u001b[0;34m\u001b[0m\u001b[0m\n\u001b[0;32m--> 242\u001b[0;31m         \u001b[0;32mraise\u001b[0m \u001b[0mexception_class\u001b[0m\u001b[0;34m(\u001b[0m\u001b[0mmessage\u001b[0m\u001b[0;34m,\u001b[0m \u001b[0mscreen\u001b[0m\u001b[0;34m,\u001b[0m \u001b[0mstacktrace\u001b[0m\u001b[0;34m)\u001b[0m\u001b[0;34m\u001b[0m\u001b[0;34m\u001b[0m\u001b[0m\n\u001b[0m\u001b[1;32m    243\u001b[0m \u001b[0;34m\u001b[0m\u001b[0m\n\u001b[1;32m    244\u001b[0m     \u001b[0;32mdef\u001b[0m \u001b[0m_value_or_default\u001b[0m\u001b[0;34m(\u001b[0m\u001b[0mself\u001b[0m\u001b[0;34m,\u001b[0m \u001b[0mobj\u001b[0m\u001b[0;34m,\u001b[0m \u001b[0mkey\u001b[0m\u001b[0;34m,\u001b[0m \u001b[0mdefault\u001b[0m\u001b[0;34m)\u001b[0m\u001b[0;34m:\u001b[0m\u001b[0;34m\u001b[0m\u001b[0;34m\u001b[0m\u001b[0m\n",
      "\u001b[0;31mInvalidSessionIdException\u001b[0m: Message: invalid session id\n"
     ]
    }
   ],
   "source": [
    "driver.close()"
   ]
  }
 ],
 "metadata": {
  "kernelspec": {
   "display_name": "Python 3",
   "language": "python",
   "name": "python3"
  },
  "language_info": {
   "codemirror_mode": {
    "name": "ipython",
    "version": 3
   },
   "file_extension": ".py",
   "mimetype": "text/x-python",
   "name": "python",
   "nbconvert_exporter": "python",
   "pygments_lexer": "ipython3",
   "version": "3.8.5"
  }
 },
 "nbformat": 4,
 "nbformat_minor": 4
}
