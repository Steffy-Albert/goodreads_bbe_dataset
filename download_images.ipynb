{
 "cells": [
  {
   "cell_type": "code",
   "execution_count": 5,
   "metadata": {},
   "outputs": [],
   "source": [
    "import urllib.request\n",
    "import time\n",
    "from ast import literal_eval\n",
    "import urllib.request\n",
    "\n",
    "# Load books scraped\n",
    "books = []\n",
    "with open('book_db_10000.txt') as f:\n",
    "    books = f.readlines()\n",
    "    books = [literal_eval(x.strip('\\n')) for x in books]"
   ]
  },
  {
   "cell_type": "code",
   "execution_count": 15,
   "metadata": {},
   "outputs": [],
   "source": [
    "for book in books:\n",
    "    if book.get('coverImg') !='':\n",
    "        urllib.request.urlretrieve(book.get('coverImg'), \"img/\"+book.get('bookId')+\".jpg\")\n",
    "        time.sleep(2)"
   ]
  },
  {
   "cell_type": "code",
   "execution_count": null,
   "metadata": {},
   "outputs": [],
   "source": []
  }
 ],
 "metadata": {
  "kernelspec": {
   "display_name": "Python 3",
   "language": "python",
   "name": "python3"
  },
  "language_info": {
   "codemirror_mode": {
    "name": "ipython",
    "version": 3
   },
   "file_extension": ".py",
   "mimetype": "text/x-python",
   "name": "python",
   "nbconvert_exporter": "python",
   "pygments_lexer": "ipython3",
   "version": "3.8.5"
  }
 },
 "nbformat": 4,
 "nbformat_minor": 4
}
