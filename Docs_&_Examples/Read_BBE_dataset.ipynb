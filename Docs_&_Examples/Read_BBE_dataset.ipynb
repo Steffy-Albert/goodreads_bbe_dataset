{
 "cells": [
  {
   "cell_type": "markdown",
   "metadata": {},
   "source": [
    "# READ BBE DATASET"
   ]
  },
  {
   "cell_type": "code",
   "execution_count": null,
   "metadata": {},
   "outputs": [],
   "source": [
    "import pandas as pd\n",
    "import csv\n",
    "import dateutil.parser\n",
    "from ast import literal_eval\n",
    "\n",
    "# Define methods to read and write books from/to csv\n",
    "def books_to_csv(file):\n",
    "    # Get headers\n",
    "    keys = books[0].keys()\n",
    "    \n",
    "    # Write output\n",
    "    with open(file, 'w') as f:\n",
    "        csv_writer = csv.DictWriter(f, keys, quoting=csv.QUOTE_NONNUMERIC)\n",
    "        csv_writer.writeheader()\n",
    "        csv_writer.writerows(books)\n",
    "\n",
    "def csv_to_books(file):\n",
    "    books = []\n",
    "    # Read file\n",
    "    with open(file, 'rt') as f:\n",
    "        csv_reader = csv.DictReader(f, quoting=csv.QUOTE_NONNUMERIC)\n",
    "        for row in csv_reader:\n",
    "            books.append(row)\n",
    "    return books\n",
    "\n",
    "# Load book_db\n",
    "books = csv_to_books('../Best_Books_Ever_dataset/books_1.Best_Books_Ever.csv')\n",
    "\n",
    "# Create pandas dataframe\n",
    "df = pd.DataFrame.from_records(books)\n",
    "\n",
    "# Show dataframe\n",
    "df"
   ]
  }
 ],
 "metadata": {
  "kernelspec": {
   "display_name": "Python 3",
   "language": "python",
   "name": "python3"
  },
  "language_info": {
   "codemirror_mode": {
    "name": "ipython",
    "version": 3
   },
   "file_extension": ".py",
   "mimetype": "text/x-python",
   "name": "python",
   "nbconvert_exporter": "python",
   "pygments_lexer": "ipython3",
   "version": "3.8.5"
  }
 },
 "nbformat": 4,
 "nbformat_minor": 4
}
