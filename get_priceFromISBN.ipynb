{
 "cells": [
  {
   "cell_type": "code",
   "execution_count": 20,
   "metadata": {},
   "outputs": [],
   "source": [
    "# Load necessary libraries\n",
    "import time\n",
    "from ast import literal_eval\n",
    "from selenium import webdriver\n",
    "from selenium.webdriver.chrome.options import Options\n",
    "from selenium.webdriver.common.by import By\n",
    "from selenium.common.exceptions import NoSuchElementException\n",
    "from selenium.common.exceptions import TimeoutException\n",
    "from selenium.webdriver.support.ui import WebDriverWait"
   ]
  },
  {
   "cell_type": "code",
   "execution_count": 11,
   "metadata": {},
   "outputs": [],
   "source": [
    "# Load book_db\n",
    "with open('book_db_10000.txt') as f:\n",
    "    books = f.readlines()\n",
    "    books = [literal_eval(x.strip('\\n')) for x in books] "
   ]
  },
  {
   "cell_type": "code",
   "execution_count": 23,
   "metadata": {},
   "outputs": [],
   "source": [
    "# Enter ISBN to IberLibro to find price\n",
    "def get_iberlibroPRice(driver_iberlibro, ISBN):\n",
    "    \n",
    "    #driver_iberlibro = webdriver.Chrome()\n",
    "    driver_iberlibro.get('https://www.iberlibro.com/')\n",
    "    box = driver_iberlibro.find_elements_by_xpath('//input[@class=\"form-control\"]')\n",
    "    box[3].click()\n",
    "    box[3].send_keys(ISBN)\n",
    "    driver_iberlibro.find_element_by_xpath('//button[@class=\"btn btn-abebooks btn-xs-block\"]').click()\n",
    "    \n",
    "    # Wait for price to load to avoid crash\n",
    "    WebDriverWait(driver_iberlibro, 10).until(lambda driver_iberlibro:\n",
    "                                    driver_iberlibro.find_element_by_class_name(\"srp-item-price\"))\n",
    "    \n",
    "    # Retrieve price\n",
    "    iberLibPrice = float(driver_iberlibro.find_element_by_class_name(\"srp-item-price\").text.split(' ')[1].replace(',','.'))\n",
    "    return(iberLibPrice)"
   ]
  },
  {
   "cell_type": "code",
   "execution_count": 24,
   "metadata": {},
   "outputs": [
    {
     "name": "stdout",
     "output_type": "stream",
     "text": [
      "2.45\n",
      "7.37\n",
      "2.2\n",
      "4.77\n",
      "8.0\n",
      "21.12\n",
      "4.34\n"
     ]
    }
   ],
   "source": [
    "#TEST OF IBERLIBRO PRICE\n",
    "\n",
    "# Set chrome options\n",
    "chrome_options = Options()\n",
    "chrome_options.add_argument(\"--no-sandbox\")\n",
    "chrome_options.add_experimental_option(\"excludeSwitches\", [\"enable-automation\"])\n",
    "chrome_options.add_experimental_option('useAutomationExtension', False)\n",
    "chrome_options.add_argument(\"--window-size=1920x1080\")\n",
    "chrome_prefs = {}\n",
    "chrome_options.experimental_options[\"prefs\"] = chrome_prefs\n",
    "chrome_prefs[\"profile.default_content_settings\"] = {\"images\": 2}\n",
    "chrome_prefs[\"profile.managed_default_content_settings\"] = {\"images\": 2}\n",
    "\n",
    "# Define webdriver\n",
    "driver_iberlibro = webdriver.Chrome(options=chrome_options)\n",
    "\n",
    "for i in range(10):\n",
    "    ISBN = books[i]['isbn'] #Take ISBN from Goodreads books record\n",
    "    \n",
    "    if ISBN != \"9999999999999\":\n",
    "        print(get_iberlibroPRice(driver_iberlibro,ISBN))"
   ]
  },
  {
   "cell_type": "code",
   "execution_count": 19,
   "metadata": {},
   "outputs": [],
   "source": [
    "driver_iberlibro.close()"
   ]
  }
 ],
 "metadata": {
  "kernelspec": {
   "display_name": "Python 3",
   "language": "python",
   "name": "python3"
  },
  "language_info": {
   "codemirror_mode": {
    "name": "ipython",
    "version": 3
   },
   "file_extension": ".py",
   "mimetype": "text/x-python",
   "name": "python",
   "nbconvert_exporter": "python",
   "pygments_lexer": "ipython3",
   "version": "3.8.5"
  }
 },
 "nbformat": 4,
 "nbformat_minor": 2
}
